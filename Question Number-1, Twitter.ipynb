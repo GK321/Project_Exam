{
 "cells": [
  {
   "cell_type": "code",
   "execution_count": 1,
   "metadata": {},
   "outputs": [],
   "source": [
    "import tweepy\n",
    "import matplotlib.pyplot as plt\n",
    "import ipywidgets as widgets\n",
    "from IPython.display import display\n",
    "\n",
    "# Enter your Twitter API credentials\n",
    "consumer_key = \"YOUR_CONSUMER_KEY\"\n",
    "consumer_secret = \"YOUR_CONSUMER_SECRET\"\n",
    "access_token = \"YOUR_ACCESS_TOKEN\"\n",
    "access_token_secret = \"YOUR_ACCESS_TOKEN_SECRET\"\n"
   ]
  },
  {
   "cell_type": "code",
   "execution_count": 2,
   "metadata": {},
   "outputs": [],
   "source": [
    "\n",
    "# Authenticate with Twitter API\n",
    "auth = tweepy.OAuth1UserHandler(\n",
    "    consumer_key, consumer_secret, access_token, access_token_secret)\n",
    "\n",
    "# Connect to Twitter API\n",
    "api = tweepy.API(auth)\n",
    "\n",
    "# Define list of locations and their WOEID codes\n",
    "locations = [(\"India\", 23424848),\n",
    "             (\"United States\", 23424977),\n",
    "             (\"United Kingdom\", 23424975),\n",
    "             (\"Canada\", 23424775),\n",
    "             (\"Australia\", 23424748)]\n"
   ]
  },
  {
   "cell_type": "code",
   "execution_count": 8,
   "metadata": {},
   "outputs": [
    {
     "data": {
      "application/vnd.jupyter.widget-view+json": {
       "model_id": "ae464d7c841b46259513204795f75d4d",
       "version_major": 2,
       "version_minor": 0
      },
      "text/plain": [
       "Dropdown(description='Location:', options=(('India', 23424848), ('United States', 23424977), ('United Kingdom'…"
      ]
     },
     "metadata": {},
     "output_type": "display_data"
    }
   ],
   "source": [
    "\n",
    "# Create dropdown menu to select location\n",
    "dropdown = widgets.Dropdown(options=locations, description=\"Location:\")\n",
    "\n",
    "# Define function to update chart when location is selected\n",
    "def update_chart(change):\n",
    "    # Retrieve the top 10 trending topics in the selected location in the last 24 hours\n",
    "    trends = api.trends_place(change.new)[0]['trends'][:10]\n",
    "    trend_names = [trend['name'] for trend in trends]\n",
    "    trend_volumes = [trend['tweet_volume'] for trend in trends]\n",
    "\n",
    "    # Create bar chart of trending topics\n",
    "    plt.clf()\n",
    "    plt.barh(trend_names, trend_volumes)\n",
    "    plt.title(\"Top 10 Twitter Trending Topics in {} (Last 24 Hours)\".format(change.new))\n",
    "    plt.xlabel(\"Tweet Volume\")\n",
    "    plt.ylabel(\"Topic\")\n",
    "    plt.gca().invert_yaxis()\n",
    "    plt.show()\n",
    "\n",
    "# Add listener to dropdown menu\n",
    "dropdown.observe(update_chart, names=\"value\")\n",
    "\n",
    "# Display dropdown menu\n",
    "display(dropdown)"
   ]
  },
  {
   "cell_type": "code",
   "execution_count": 5,
   "metadata": {},
   "outputs": [],
   "source": [
    "\n",
    "search_query = \"#covid19 -filter:retweets\""
   ]
  },
  {
   "cell_type": "code",
   "execution_count": 9,
   "metadata": {},
   "outputs": [
    {
     "ename": "NameError",
     "evalue": "name 'trending_topics' is not defined",
     "output_type": "error",
     "traceback": [
      "\u001b[1;31m---------------------------------------------------------------------------\u001b[0m",
      "\u001b[1;31mNameError\u001b[0m                                 Traceback (most recent call last)",
      "Cell \u001b[1;32mIn[9], line 2\u001b[0m\n\u001b[0;32m      1\u001b[0m \u001b[39m# Following are the Visualization of a bar chart of the top 10 trending topics in India\u001b[39;00m\n\u001b[1;32m----> 2\u001b[0m plt\u001b[39m.\u001b[39mbar(\u001b[39mrange\u001b[39m(\u001b[39mlen\u001b[39m(trending_topics)), [trend[\u001b[39m'\u001b[39m\u001b[39mtweet_volume\u001b[39m\u001b[39m'\u001b[39m] \u001b[39mfor\u001b[39;00m trend \u001b[39min\u001b[39;00m trends[\u001b[39m0\u001b[39m][\u001b[39m'\u001b[39m\u001b[39mtrends\u001b[39m\u001b[39m'\u001b[39m][:\u001b[39m10\u001b[39m]], align\u001b[39m=\u001b[39m\u001b[39m'\u001b[39m\u001b[39mcenter\u001b[39m\u001b[39m'\u001b[39m)\n\u001b[0;32m      3\u001b[0m plt\u001b[39m.\u001b[39mxticks(\u001b[39mrange\u001b[39m(\u001b[39mlen\u001b[39m(trending_topics)), trending_topics, rotation\u001b[39m=\u001b[39m\u001b[39m90\u001b[39m)\n\u001b[0;32m      4\u001b[0m plt\u001b[39m.\u001b[39mxlabel(\u001b[39m'\u001b[39m\u001b[39mTrending Topics\u001b[39m\u001b[39m'\u001b[39m)\n",
      "\u001b[1;31mNameError\u001b[0m: name 'trending_topics' is not defined"
     ]
    }
   ],
   "source": [
    "# Following are the Visualization of a bar chart of the top 10 trending topics in India\n",
    "plt.bar(range(len(trending_topics)), [trend['tweet_volume'] for trend in trends[0]['trends'][:10]], align='center')\n",
    "plt.xticks(range(len(trending_topics)), trending_topics, rotation=90)\n",
    "plt.xlabel('Trending Topics')\n",
    "plt.ylabel('Tweet Volume')\n",
    "plt.title('Top 10 Trending Topics in India')\n",
    "plt.show()"
   ]
  }
 ],
 "metadata": {
  "kernelspec": {
   "display_name": "Python 3",
   "language": "python",
   "name": "python3"
  },
  "language_info": {
   "codemirror_mode": {
    "name": "ipython",
    "version": 3
   },
   "file_extension": ".py",
   "mimetype": "text/x-python",
   "name": "python",
   "nbconvert_exporter": "python",
   "pygments_lexer": "ipython3",
   "version": "3.11.3"
  },
  "orig_nbformat": 4
 },
 "nbformat": 4,
 "nbformat_minor": 2
}
